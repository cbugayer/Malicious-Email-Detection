{
 "cells": [
  {
   "cell_type": "code",
   "execution_count": 6,
   "metadata": {},
   "outputs": [],
   "source": [
    "import tensorflow as tf\n",
    "import logging\n",
    "# disable tf warnings\n",
    "tf.get_logger().setLevel(logging.ERROR)\n",
    "from tensorflow.python.keras import Sequential\n",
    "# For layers\n",
    "from tensorflow.python.keras.layers import Dense\n",
    "from tensorflow.python.keras.layers import InputLayer\n",
    "import numpy as np\n",
    "import matplotlib.pyplot as plt\n",
    "import pandas as pd"
   ]
  },
  {
   "cell_type": "code",
   "execution_count": 4,
   "metadata": {},
   "outputs": [],
   "source": [
    "class Phishing_Detection_Model:\n",
    "    def __init__(self,num_features,load_weights=False,weights_path=\"phishing-detection-model.hf\",train=True):\n",
    "        self.load_weights = load_weights\n",
    "        self.weights_path = weights_path\n",
    "        self.learning_rate = 2e-4\n",
    "        self.train_ = train\n",
    "        self.num_features = num_features\n",
    "        self.model = self.build_model()\n",
    "    def build_model(self):\n",
    "        model=Sequential(name=\"Phishing_Detection_Model\")\n",
    "        model.add(InputLayer(input_shape=(self.num_features), name='Input_Layer')) \n",
    "        model.add(Dense(100,activation='relu', name='Hidden_Layer1'))\n",
    "        model.add(Dense(200,activation='relu', name='Hidden_Layer2'))\n",
    "        model.add(Dense(100,activation='relu', name='Hidden_Layer3'))\n",
    "        model.add(Dense(50, activation='relu', name='Hidden_Layer4')) \n",
    "        model.add(Dense(2, activation='sigmoid', name='Output_Layer')) \n",
    "        model.compile(optimizer='adam', loss='binary_crossentropy', metrics=['accuracy'])\n",
    "        if self.load_weights:\n",
    "           model.load_weights(self.weights_path)\n",
    "        return model\n",
    "\n",
    "    def train(self, train_feature_vecs, train_answers_vec):\n",
    "        if self.train_:\n",
    "            history = self.model.fit(\n",
    "                train_feature_vecs,\n",
    "                train_answers_vec,\n",
    "                shuffle=True,\n",
    "                epochs=50\n",
    "                )\n",
    "        self.model.save(\"phishing-detection-model\")\n",
    "        self.plot_stats(history)\n",
    "    def predict(self, test_feature_vecs):\n",
    "        return self.model.predict(test_feature_vecs)\n",
    "    \n",
    "    def plot_stats(self, history):\n",
    "        accuracy = history.history[\"accuracy\"]\n",
    "        loss = history.history[\"loss\"]\n",
    "        epochs = range(1, len(accuracy) + 1)\n",
    "\n",
    "        plt.title('Training accuracy and loss')\n",
    "        plt.plot(epochs, accuracy, 'b*', label='Training accuracy')\n",
    "        plt.plot(epochs, loss, 'b-', label='Training loss')\n",
    "        plt.legend()\n",
    "        plt.xlabel(\"Epochs\")\n",
    "        plt.savefig('Training accuracy and loss')"
   ]
  },
  {
   "cell_type": "code",
   "execution_count": 5,
   "metadata": {},
   "outputs": [],
   "source": [
    "def calculate_accuracy(predictions, targets):\n",
    "    correct = 0\n",
    "    total = 0\n",
    "    for i in range(len(predictions)):\n",
    "        act_label = targets[i]\n",
    "        pred_label = 0 if predictions[i] < 0.5 else 1\n",
    "        if(act_label == pred_label):\n",
    "            correct += 1\n",
    "        total += 1\n",
    "    accuracy = (correct/total)\n",
    "    return accuracy"
   ]
  },
  {
   "cell_type": "code",
   "execution_count": 8,
   "metadata": {},
   "outputs": [],
   "source": [
    "def get_features_targets(df, column):\n",
    "    targets = df[column]\n",
    "    targets = tf.convert_to_tensor(targets)\n",
    "    features = df.drop(column)\n",
    "    features = tf.convert_to_tensor(df)\n",
    "    return features, targets\n"
   ]
  },
  {
   "cell_type": "code",
   "execution_count": 9,
   "metadata": {},
   "outputs": [],
   "source": [
    "def train_val_test_split(df):\n",
    "    # train - 60%\n",
    "    train = df.sample(frac = 0.6)\n",
    "    # validation - 20% , test - 20%\n",
    "    val_test = df.drop(train.index)\n",
    "    val = val_test.sample(frac = 0.5)\n",
    "    test = val_test.drop(val.index)\n",
    "    train_features, train_targets = get_features_targets(train, \"CLASS_LABEL\")\n",
    "    val_features, val_targets = get_features_targets(val, \"CLASS_LABEL\")\n",
    "    val_features, val_targets = get_features_targets(test, \"CLASS_LABEL\")\n",
    "    return train_features, train_targets, val_features, val_targets, val_features, val_targets "
   ]
  },
  {
   "cell_type": "code",
   "execution_count": 11,
   "metadata": {},
   "outputs": [
    {
     "ename": "TypeError",
     "evalue": "get_features_targets() missing 1 required positional argument: 'column'",
     "output_type": "error",
     "traceback": [
      "\u001b[0;31m---------------------------------------------------------------------------\u001b[0m",
      "\u001b[0;31mTypeError\u001b[0m                                 Traceback (most recent call last)",
      "\u001b[0;32m/var/folders/sh/9w5db995469443w832hbmw0m0000gn/T/ipykernel_85219/1286700921.py\u001b[0m in \u001b[0;36m<module>\u001b[0;34m\u001b[0m\n\u001b[1;32m      1\u001b[0m \u001b[0mdata\u001b[0m \u001b[0;34m=\u001b[0m \u001b[0mpd\u001b[0m\u001b[0;34m.\u001b[0m\u001b[0mread_csv\u001b[0m\u001b[0;34m(\u001b[0m\u001b[0;34m'cleaned_phishing_dataset.csv'\u001b[0m\u001b[0;34m)\u001b[0m\u001b[0;34m\u001b[0m\u001b[0;34m\u001b[0m\u001b[0m\n\u001b[1;32m      2\u001b[0m \u001b[0mdf\u001b[0m \u001b[0;34m=\u001b[0m \u001b[0mpd\u001b[0m\u001b[0;34m.\u001b[0m\u001b[0mDataFrame\u001b[0m\u001b[0;34m(\u001b[0m\u001b[0mdata\u001b[0m\u001b[0;34m)\u001b[0m\u001b[0;34m\u001b[0m\u001b[0;34m\u001b[0m\u001b[0m\n\u001b[0;32m----> 3\u001b[0;31m \u001b[0mtrain_features\u001b[0m\u001b[0;34m,\u001b[0m \u001b[0mtrain_targets\u001b[0m\u001b[0;34m,\u001b[0m \u001b[0mval_features\u001b[0m\u001b[0;34m,\u001b[0m \u001b[0mval_targets\u001b[0m\u001b[0;34m,\u001b[0m \u001b[0mval_features\u001b[0m\u001b[0;34m,\u001b[0m \u001b[0mval_targets\u001b[0m \u001b[0;34m=\u001b[0m \u001b[0mtrain_val_test_split\u001b[0m\u001b[0;34m(\u001b[0m\u001b[0mdf\u001b[0m\u001b[0;34m)\u001b[0m\u001b[0;34m\u001b[0m\u001b[0;34m\u001b[0m\u001b[0m\n\u001b[0m",
      "\u001b[0;32m/var/folders/sh/9w5db995469443w832hbmw0m0000gn/T/ipykernel_85219/4213618425.py\u001b[0m in \u001b[0;36mtrain_val_test_split\u001b[0;34m(df)\u001b[0m\n\u001b[1;32m      6\u001b[0m     \u001b[0mval\u001b[0m \u001b[0;34m=\u001b[0m \u001b[0mval_test\u001b[0m\u001b[0;34m.\u001b[0m\u001b[0msample\u001b[0m\u001b[0;34m(\u001b[0m\u001b[0mfrac\u001b[0m \u001b[0;34m=\u001b[0m \u001b[0;36m0.5\u001b[0m\u001b[0;34m)\u001b[0m\u001b[0;34m\u001b[0m\u001b[0;34m\u001b[0m\u001b[0m\n\u001b[1;32m      7\u001b[0m     \u001b[0mtest\u001b[0m \u001b[0;34m=\u001b[0m \u001b[0mval_test\u001b[0m\u001b[0;34m.\u001b[0m\u001b[0mdrop\u001b[0m\u001b[0;34m(\u001b[0m\u001b[0mval\u001b[0m\u001b[0;34m.\u001b[0m\u001b[0mindex\u001b[0m\u001b[0;34m)\u001b[0m\u001b[0;34m\u001b[0m\u001b[0;34m\u001b[0m\u001b[0m\n\u001b[0;32m----> 8\u001b[0;31m     \u001b[0mtrain_features\u001b[0m\u001b[0;34m,\u001b[0m \u001b[0mtrain_targets\u001b[0m \u001b[0;34m=\u001b[0m \u001b[0mget_features_targets\u001b[0m\u001b[0;34m(\u001b[0m\u001b[0mtrain\u001b[0m\u001b[0;34m)\u001b[0m\u001b[0;34m\u001b[0m\u001b[0;34m\u001b[0m\u001b[0m\n\u001b[0m\u001b[1;32m      9\u001b[0m     \u001b[0mval_features\u001b[0m\u001b[0;34m,\u001b[0m \u001b[0mval_targets\u001b[0m \u001b[0;34m=\u001b[0m \u001b[0mget_features_targets\u001b[0m\u001b[0;34m(\u001b[0m\u001b[0mval\u001b[0m\u001b[0;34m)\u001b[0m\u001b[0;34m\u001b[0m\u001b[0;34m\u001b[0m\u001b[0m\n\u001b[1;32m     10\u001b[0m     \u001b[0mval_features\u001b[0m\u001b[0;34m,\u001b[0m \u001b[0mval_targets\u001b[0m \u001b[0;34m=\u001b[0m \u001b[0mget_features_targets\u001b[0m\u001b[0;34m(\u001b[0m\u001b[0mtest\u001b[0m\u001b[0;34m)\u001b[0m\u001b[0;34m\u001b[0m\u001b[0;34m\u001b[0m\u001b[0m\n",
      "\u001b[0;31mTypeError\u001b[0m: get_features_targets() missing 1 required positional argument: 'column'"
     ]
    }
   ],
   "source": [
    "data = pd.read_csv('cleaned_phishing_dataset.csv')\n",
    "df = pd.DataFrame(data)\n",
    "train_features, train_targets, val_features, val_targets, val_features, val_targets = train_val_test_split(df)"
   ]
  }
 ],
 "metadata": {
  "kernelspec": {
   "display_name": "tf_m1",
   "language": "python",
   "name": "python3"
  },
  "language_info": {
   "codemirror_mode": {
    "name": "ipython",
    "version": 3
   },
   "file_extension": ".py",
   "mimetype": "text/x-python",
   "name": "python",
   "nbconvert_exporter": "python",
   "pygments_lexer": "ipython3",
   "version": "3.8.10"
  },
  "orig_nbformat": 4,
  "vscode": {
   "interpreter": {
    "hash": "1c113ca73dcb788d262ff5c14dccc6d994c5d16184791d4e782c53cfe6cb089e"
   }
  }
 },
 "nbformat": 4,
 "nbformat_minor": 2
}
