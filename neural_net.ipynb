{
 "cells": [
  {
   "cell_type": "code",
   "execution_count": 2,
   "metadata": {},
   "outputs": [],
   "source": [
    "import tensorflow as tf\n",
    "import logging\n",
    "# disable tf warnings\n",
    "tf.get_logger().setLevel(logging.ERROR)\n",
    "from tensorflow.python.keras import Sequential\n",
    "# For layers\n",
    "from tensorflow.python.keras.layers import Dense\n",
    "from tensorflow.python.keras.layers import InputLayer\n",
    "import numpy as np\n",
    "import matplotlib.pyplot as plt\n",
    "import pandas as pd"
   ]
  },
  {
   "cell_type": "code",
   "execution_count": 3,
   "metadata": {},
   "outputs": [],
   "source": [
    "class Phishing_Detection_Model:\n",
    "    def __init__(self,num_features,load_weights=False,weights_path=\"phishing-detection-model.hf\",train=True):\n",
    "        self.load_weights = load_weights\n",
    "        self.weights_path = weights_path\n",
    "        self.learning_rate = 2e-4\n",
    "        self.train_ = train\n",
    "        self.num_features = num_features\n",
    "        self.model = self.build_model()\n",
    "    def build_model(self):\n",
    "        model=Sequential(name=\"Phishing_Detection_Model\")\n",
    "        model.add(InputLayer(input_shape=(self.num_features), name='Input_Layer')) \n",
    "        model.add(Dense(100,activation='relu', name='Hidden_Layer1'))\n",
    "        model.add(Dense(200,activation='relu', name='Hidden_Layer2'))\n",
    "        model.add(Dense(100,activation='relu', name='Hidden_Layer3'))\n",
    "        model.add(Dense(50, activation='relu', name='Hidden_Layer4')) \n",
    "        model.add(Dense(1, activation='sigmoid', name='Output_Layer')) \n",
    "        model.compile(optimizer='adam', loss='binary_crossentropy', metrics=['accuracy'])\n",
    "        if self.load_weights:\n",
    "           model.load_weights(self.weights_path)\n",
    "        return model\n",
    "\n",
    "    def train(self, train_feature_vecs, train_answers_vec):\n",
    "        if self.train_:\n",
    "            history = self.model.fit(\n",
    "                x=train_feature_vecs,\n",
    "                y=train_answers_vec,\n",
    "                validation_split=0.25,\n",
    "                shuffle=True,\n",
    "                epochs=50\n",
    "            )\n",
    "        self.model.save(\"phishing-detection-model\")\n",
    "        self.plot_stats(history)\n",
    "    def predict(self, test_feature_vecs):\n",
    "        return self.model.predict(test_feature_vecs)\n",
    "    \n",
    "    def plot_stats(self, history):\n",
    "        accuracy = history.history[\"accuracy\"]\n",
    "        loss = history.history[\"loss\"]\n",
    "        epochs = range(1, len(accuracy) + 1)\n",
    "\n",
    "        plt.title('Training accuracy and loss')\n",
    "        plt.plot(epochs, accuracy, 'b*', label='Training accuracy')\n",
    "        plt.plot(epochs, loss, 'b-', label='Training loss')\n",
    "        plt.legend()\n",
    "        plt.xlabel(\"Epochs\")\n",
    "        plt.savefig('Training accuracy and loss')"
   ]
  },
  {
   "cell_type": "code",
   "execution_count": 4,
   "metadata": {},
   "outputs": [],
   "source": [
    "def calculate_accuracy(predictions, targets):\n",
    "    correct = 0\n",
    "    total = 0\n",
    "    for i in range(len(predictions)):\n",
    "        act_label = targets[i]\n",
    "        pred_label = 0 if predictions[i] < 0.5 else 1\n",
    "        if(act_label == pred_label):\n",
    "            correct += 1\n",
    "        total += 1\n",
    "    accuracy = (correct/total)\n",
    "    return accuracy"
   ]
  },
  {
   "cell_type": "code",
   "execution_count": 5,
   "metadata": {},
   "outputs": [],
   "source": [
    "def get_features_targets(df, column):\n",
    "    targets = df[column]\n",
    "    targets = tf.convert_to_tensor(targets)\n",
    "    features = df.drop(columns=column)\n",
    "    features = tf.convert_to_tensor(features)\n",
    "    return features, targets\n"
   ]
  },
  {
   "cell_type": "code",
   "execution_count": 6,
   "metadata": {},
   "outputs": [],
   "source": [
    "def train_val_test_split(df, column):\n",
    "    # train - 60%\n",
    "    train = df.sample(frac = 0.8)\n",
    "    # validation - 20% , test - 20%\n",
    "    test = df.drop(train.index)\n",
    "    train_features, train_targets = get_features_targets(train, column)\n",
    "    test_features, test_targets = get_features_targets(test, column)\n",
    "    return train_features, train_targets, test_features, test_targets "
   ]
  },
  {
   "cell_type": "code",
   "execution_count": 60,
   "metadata": {},
   "outputs": [],
   "source": [
    "data = pd.read_csv('cleaned_phishing_dataset.csv')\n",
    "df = pd.DataFrame(data)\n",
    "train_features, train_targets, test_features, test_targets = train_val_test_split(df, 'CLASS_LABEL')\n",
    "assert train_features.shape[1] == test_features.shape[1] == len(df.columns) - 1"
   ]
  },
  {
   "cell_type": "code",
   "execution_count": 53,
   "metadata": {},
   "outputs": [],
   "source": [
    "model = Phishing_Detection_Model(num_features=train_features.shape[1])"
   ]
  },
  {
   "cell_type": "code",
   "execution_count": 54,
   "metadata": {},
   "outputs": [
    {
     "name": "stdout",
     "output_type": "stream",
     "text": [
      "Epoch 1/50\n",
      "188/188 [==============================] - 1s 3ms/step - loss: 0.4843 - accuracy: 0.7695 - val_loss: 0.2380 - val_accuracy: 0.9085\n",
      "Epoch 2/50\n",
      "188/188 [==============================] - 0s 2ms/step - loss: 0.2285 - accuracy: 0.9158 - val_loss: 0.1982 - val_accuracy: 0.9280\n",
      "Epoch 3/50\n",
      "188/188 [==============================] - 0s 2ms/step - loss: 0.2010 - accuracy: 0.9248 - val_loss: 0.2059 - val_accuracy: 0.9280\n",
      "Epoch 4/50\n",
      "188/188 [==============================] - 1s 3ms/step - loss: 0.1667 - accuracy: 0.9393 - val_loss: 0.1862 - val_accuracy: 0.9305\n",
      "Epoch 5/50\n",
      "188/188 [==============================] - 0s 3ms/step - loss: 0.1606 - accuracy: 0.9385 - val_loss: 0.1863 - val_accuracy: 0.9335\n",
      "Epoch 6/50\n",
      "188/188 [==============================] - 0s 2ms/step - loss: 0.1536 - accuracy: 0.9442 - val_loss: 0.1513 - val_accuracy: 0.9435\n",
      "Epoch 7/50\n",
      "188/188 [==============================] - 0s 2ms/step - loss: 0.1419 - accuracy: 0.9467 - val_loss: 0.1537 - val_accuracy: 0.9420\n",
      "Epoch 8/50\n",
      "188/188 [==============================] - 0s 2ms/step - loss: 0.1440 - accuracy: 0.9458 - val_loss: 0.1506 - val_accuracy: 0.9445\n",
      "Epoch 9/50\n",
      "188/188 [==============================] - 0s 3ms/step - loss: 0.1356 - accuracy: 0.9518 - val_loss: 0.1437 - val_accuracy: 0.9475\n",
      "Epoch 10/50\n",
      "188/188 [==============================] - 0s 3ms/step - loss: 0.1341 - accuracy: 0.9527 - val_loss: 0.2226 - val_accuracy: 0.9140\n",
      "Epoch 11/50\n",
      "188/188 [==============================] - 1s 3ms/step - loss: 0.1311 - accuracy: 0.9512 - val_loss: 0.1506 - val_accuracy: 0.9540\n",
      "Epoch 12/50\n",
      "188/188 [==============================] - 1s 3ms/step - loss: 0.1287 - accuracy: 0.9517 - val_loss: 0.1344 - val_accuracy: 0.9550\n",
      "Epoch 13/50\n",
      "188/188 [==============================] - 0s 3ms/step - loss: 0.1226 - accuracy: 0.9555 - val_loss: 0.1493 - val_accuracy: 0.9475\n",
      "Epoch 14/50\n",
      "188/188 [==============================] - 0s 2ms/step - loss: 0.1206 - accuracy: 0.9548 - val_loss: 0.1462 - val_accuracy: 0.9525\n",
      "Epoch 15/50\n",
      "188/188 [==============================] - 0s 3ms/step - loss: 0.1269 - accuracy: 0.9515 - val_loss: 0.1380 - val_accuracy: 0.9475\n",
      "Epoch 16/50\n",
      "188/188 [==============================] - 1s 3ms/step - loss: 0.1201 - accuracy: 0.9585 - val_loss: 0.1392 - val_accuracy: 0.9525\n",
      "Epoch 17/50\n",
      "188/188 [==============================] - 0s 3ms/step - loss: 0.1156 - accuracy: 0.9590 - val_loss: 0.1415 - val_accuracy: 0.9465\n",
      "Epoch 18/50\n",
      "188/188 [==============================] - 0s 2ms/step - loss: 0.1159 - accuracy: 0.9557 - val_loss: 0.1369 - val_accuracy: 0.9515\n",
      "Epoch 19/50\n",
      "188/188 [==============================] - 0s 2ms/step - loss: 0.1092 - accuracy: 0.9623 - val_loss: 0.1181 - val_accuracy: 0.9570\n",
      "Epoch 20/50\n",
      "188/188 [==============================] - 0s 2ms/step - loss: 0.1136 - accuracy: 0.9598 - val_loss: 0.1295 - val_accuracy: 0.9550\n",
      "Epoch 21/50\n",
      "188/188 [==============================] - 0s 2ms/step - loss: 0.1108 - accuracy: 0.9610 - val_loss: 0.1269 - val_accuracy: 0.9520\n",
      "Epoch 22/50\n",
      "188/188 [==============================] - 0s 2ms/step - loss: 0.1007 - accuracy: 0.9657 - val_loss: 0.1212 - val_accuracy: 0.9590\n",
      "Epoch 23/50\n",
      "188/188 [==============================] - 0s 2ms/step - loss: 0.1014 - accuracy: 0.9630 - val_loss: 0.1196 - val_accuracy: 0.9585\n",
      "Epoch 24/50\n",
      "188/188 [==============================] - 0s 2ms/step - loss: 0.1052 - accuracy: 0.9637 - val_loss: 0.1264 - val_accuracy: 0.9545\n",
      "Epoch 25/50\n",
      "188/188 [==============================] - 0s 2ms/step - loss: 0.0982 - accuracy: 0.9658 - val_loss: 0.1264 - val_accuracy: 0.9610\n",
      "Epoch 26/50\n",
      "188/188 [==============================] - 0s 2ms/step - loss: 0.0974 - accuracy: 0.9655 - val_loss: 0.1322 - val_accuracy: 0.9585\n",
      "Epoch 27/50\n",
      "188/188 [==============================] - 0s 3ms/step - loss: 0.0984 - accuracy: 0.9643 - val_loss: 0.1340 - val_accuracy: 0.9575\n",
      "Epoch 28/50\n",
      "188/188 [==============================] - 1s 3ms/step - loss: 0.0925 - accuracy: 0.9655 - val_loss: 0.1183 - val_accuracy: 0.9620\n",
      "Epoch 29/50\n",
      "188/188 [==============================] - 0s 2ms/step - loss: 0.0933 - accuracy: 0.9667 - val_loss: 0.1382 - val_accuracy: 0.9545\n",
      "Epoch 30/50\n",
      "188/188 [==============================] - 0s 2ms/step - loss: 0.0982 - accuracy: 0.9645 - val_loss: 0.1345 - val_accuracy: 0.9505\n",
      "Epoch 31/50\n",
      "188/188 [==============================] - 0s 2ms/step - loss: 0.0890 - accuracy: 0.9688 - val_loss: 0.1403 - val_accuracy: 0.9540\n",
      "Epoch 32/50\n",
      "188/188 [==============================] - 0s 2ms/step - loss: 0.0875 - accuracy: 0.9677 - val_loss: 0.1256 - val_accuracy: 0.9515\n",
      "Epoch 33/50\n",
      "188/188 [==============================] - 0s 2ms/step - loss: 0.0897 - accuracy: 0.9700 - val_loss: 0.1362 - val_accuracy: 0.9620\n",
      "Epoch 34/50\n",
      "188/188 [==============================] - 0s 2ms/step - loss: 0.0817 - accuracy: 0.9717 - val_loss: 0.1174 - val_accuracy: 0.9605\n",
      "Epoch 35/50\n",
      "188/188 [==============================] - 0s 2ms/step - loss: 0.0792 - accuracy: 0.9703 - val_loss: 0.1326 - val_accuracy: 0.9595\n",
      "Epoch 36/50\n",
      "188/188 [==============================] - 0s 2ms/step - loss: 0.0776 - accuracy: 0.9737 - val_loss: 0.1410 - val_accuracy: 0.9550\n",
      "Epoch 37/50\n",
      "188/188 [==============================] - 0s 2ms/step - loss: 0.0898 - accuracy: 0.9668 - val_loss: 0.1126 - val_accuracy: 0.9595\n",
      "Epoch 38/50\n",
      "188/188 [==============================] - 0s 2ms/step - loss: 0.0744 - accuracy: 0.9727 - val_loss: 0.1137 - val_accuracy: 0.9585\n",
      "Epoch 39/50\n",
      "188/188 [==============================] - 0s 2ms/step - loss: 0.0704 - accuracy: 0.9745 - val_loss: 0.1351 - val_accuracy: 0.9620\n",
      "Epoch 40/50\n",
      "188/188 [==============================] - 0s 2ms/step - loss: 0.0776 - accuracy: 0.9728 - val_loss: 0.1183 - val_accuracy: 0.9645\n",
      "Epoch 41/50\n",
      "188/188 [==============================] - 0s 2ms/step - loss: 0.0719 - accuracy: 0.9748 - val_loss: 0.1429 - val_accuracy: 0.9560\n",
      "Epoch 42/50\n",
      "188/188 [==============================] - 0s 2ms/step - loss: 0.0724 - accuracy: 0.9747 - val_loss: 0.1298 - val_accuracy: 0.9565\n",
      "Epoch 43/50\n",
      "188/188 [==============================] - 0s 2ms/step - loss: 0.0655 - accuracy: 0.9765 - val_loss: 0.1239 - val_accuracy: 0.9660\n",
      "Epoch 44/50\n",
      "188/188 [==============================] - 0s 2ms/step - loss: 0.0708 - accuracy: 0.9750 - val_loss: 0.1090 - val_accuracy: 0.9635\n",
      "Epoch 45/50\n",
      "188/188 [==============================] - 0s 2ms/step - loss: 0.0615 - accuracy: 0.9762 - val_loss: 0.1016 - val_accuracy: 0.9695\n",
      "Epoch 46/50\n",
      "188/188 [==============================] - 0s 2ms/step - loss: 0.0622 - accuracy: 0.9777 - val_loss: 0.2111 - val_accuracy: 0.9495\n",
      "Epoch 47/50\n",
      "188/188 [==============================] - 0s 2ms/step - loss: 0.0644 - accuracy: 0.9757 - val_loss: 0.1228 - val_accuracy: 0.9655\n",
      "Epoch 48/50\n",
      "188/188 [==============================] - 0s 2ms/step - loss: 0.0599 - accuracy: 0.9792 - val_loss: 0.1472 - val_accuracy: 0.9540\n",
      "Epoch 49/50\n",
      "188/188 [==============================] - 0s 2ms/step - loss: 0.0558 - accuracy: 0.9808 - val_loss: 0.1330 - val_accuracy: 0.9640\n",
      "Epoch 50/50\n",
      "188/188 [==============================] - 0s 2ms/step - loss: 0.0539 - accuracy: 0.9798 - val_loss: 0.1226 - val_accuracy: 0.9670\n"
     ]
    },
    {
     "name": "stderr",
     "output_type": "stream",
     "text": [
      "2023-02-05 17:14:34.431190: W tensorflow/python/util/util.cc:368] Sets are not currently considered sequences, but this may change in the future, so consider avoiding using them.\n",
      "WARNING:absl:Function `_wrapped_model` contains input name(s) Input_Layer with unsupported characters which will be renamed to input_layer in the SavedModel.\n"
     ]
    },
    {
     "data": {
      "image/png": "[encoded data removed]",
      "text/plain": [
       "<Figure size 432x288 with 1 Axes>"
      ]
     },
     "metadata": {
      "needs_background": "light"
     },
     "output_type": "display_data"
    }
   ],
   "source": [
    "model.train(train_features,train_targets)"
   ]
  },
  {
   "cell_type": "code",
   "execution_count": 63,
   "metadata": {},
   "outputs": [
    {
     "data": {
      "text/plain": [
       "0.972"
      ]
     },
     "execution_count": 63,
     "metadata": {},
     "output_type": "execute_result"
    }
   ],
   "source": [
    "predicted_labels = model.predict(test_features)\n",
    "calculate_accuracy(predictions=predicted_labels, targets=test_targets)"
   ]
  },
  {
   "cell_type": "code",
   "execution_count": 61,
   "metadata": {},
   "outputs": [],
   "source": [
    "data2 = pd.read_csv('phishing_dataset_full.csv')\n",
    "df2 = pd.DataFrame(data2)\n",
    "train_features2, train_targets2, test_features2, test_targets2 = train_val_test_split(df2,'phishing')"
   ]
  },
  {
   "cell_type": "code",
   "execution_count": null,
   "metadata": {},
   "outputs": [],
   "source": [
    "model2 = Phishing_Detection_Model(num_features=train_features2.shape[1])"
   ]
  },
  {
   "cell_type": "code",
   "execution_count": null,
   "metadata": {},
   "outputs": [
    {
     "name": "stdout",
     "output_type": "stream",
     "text": [
      "Epoch 1/50\n",
      "1663/1663 [==============================] - 5s 3ms/step - loss: 14.2587 - accuracy: 0.7166 - val_loss: 1.4894 - val_accuracy: 0.7625\n",
      "Epoch 2/50\n",
      "1663/1663 [==============================] - 4s 2ms/step - loss: 0.7922 - accuracy: 0.8213 - val_loss: 0.5369 - val_accuracy: 0.8221\n",
      "Epoch 3/50\n",
      "1663/1663 [==============================] - 4s 2ms/step - loss: 0.5695 - accuracy: 0.8417 - val_loss: 0.4965 - val_accuracy: 0.6746\n",
      "Epoch 4/50\n",
      "1663/1663 [==============================] - 4s 2ms/step - loss: 0.3654 - accuracy: 0.8507 - val_loss: 0.3078 - val_accuracy: 0.8278\n",
      "Epoch 5/50\n",
      "1663/1663 [==============================] - 4s 2ms/step - loss: 0.3549 - accuracy: 0.8342 - val_loss: 0.3560 - val_accuracy: 0.8572\n",
      "Epoch 6/50\n",
      "1663/1663 [==============================] - 4s 2ms/step - loss: 0.4077 - accuracy: 0.8286 - val_loss: 2.1082 - val_accuracy: 0.4660\n",
      "Epoch 7/50\n",
      "1663/1663 [==============================] - 4s 2ms/step - loss: 0.3031 - accuracy: 0.8633 - val_loss: 0.2788 - val_accuracy: 0.8946\n",
      "Epoch 8/50\n",
      "1663/1663 [==============================] - 4s 2ms/step - loss: 0.2827 - accuracy: 0.8734 - val_loss: 0.2646 - val_accuracy: 0.8936\n",
      "Epoch 9/50\n",
      "1663/1663 [==============================] - 4s 2ms/step - loss: 0.2587 - accuracy: 0.8872 - val_loss: 0.2522 - val_accuracy: 0.9073\n",
      "Epoch 10/50\n",
      "1663/1663 [==============================] - 4s 2ms/step - loss: 0.2656 - accuracy: 0.8945 - val_loss: 0.2141 - val_accuracy: 0.9131\n",
      "Epoch 11/50\n",
      "1663/1663 [==============================] - 4s 2ms/step - loss: 0.2314 - accuracy: 0.9025 - val_loss: 0.2117 - val_accuracy: 0.9070\n",
      "Epoch 12/50\n",
      "1663/1663 [==============================] - 4s 2ms/step - loss: 0.2351 - accuracy: 0.9025 - val_loss: 0.3764 - val_accuracy: 0.8790\n",
      "Epoch 13/50\n",
      "1663/1663 [==============================] - 4s 2ms/step - loss: 0.2319 - accuracy: 0.9027 - val_loss: 0.2128 - val_accuracy: 0.9096\n",
      "Epoch 14/50\n",
      "1663/1663 [==============================] - 4s 2ms/step - loss: 0.2269 - accuracy: 0.9054 - val_loss: 0.2052 - val_accuracy: 0.9155\n",
      "Epoch 15/50\n",
      "1663/1663 [==============================] - 4s 2ms/step - loss: 0.2293 - accuracy: 0.9066 - val_loss: 0.2067 - val_accuracy: 0.9179\n",
      "Epoch 16/50\n",
      "1663/1663 [==============================] - 4s 2ms/step - loss: 0.2210 - accuracy: 0.9080 - val_loss: 0.2043 - val_accuracy: 0.9168\n",
      "Epoch 17/50\n",
      "1663/1663 [==============================] - 4s 2ms/step - loss: 0.2178 - accuracy: 0.9099 - val_loss: 0.1957 - val_accuracy: 0.9155\n",
      "Epoch 18/50\n",
      "1663/1663 [==============================] - 4s 2ms/step - loss: 0.2261 - accuracy: 0.9069 - val_loss: 0.1961 - val_accuracy: 0.9199\n",
      "Epoch 19/50\n",
      "1663/1663 [==============================] - 4s 2ms/step - loss: 0.2094 - accuracy: 0.9128 - val_loss: 0.1898 - val_accuracy: 0.9228\n",
      "Epoch 20/50\n",
      "1663/1663 [==============================] - 4s 2ms/step - loss: 0.2191 - accuracy: 0.9111 - val_loss: 0.2076 - val_accuracy: 0.9173\n",
      "Epoch 21/50\n",
      "1663/1663 [==============================] - 4s 2ms/step - loss: 0.2109 - accuracy: 0.9130 - val_loss: 0.1942 - val_accuracy: 0.9208\n",
      "Epoch 22/50\n",
      "1663/1663 [==============================] - 4s 2ms/step - loss: 0.2115 - accuracy: 0.9133 - val_loss: 0.1946 - val_accuracy: 0.9218\n",
      "Epoch 23/50\n",
      "1663/1663 [==============================] - 4s 2ms/step - loss: 0.2034 - accuracy: 0.9144 - val_loss: 0.1822 - val_accuracy: 0.9254\n",
      "Epoch 24/50\n",
      "1663/1663 [==============================] - 4s 3ms/step - loss: 0.2043 - accuracy: 0.9139 - val_loss: 0.2350 - val_accuracy: 0.8934\n",
      "Epoch 25/50\n",
      "1663/1663 [==============================] - 4s 2ms/step - loss: 0.2079 - accuracy: 0.9139 - val_loss: 0.1904 - val_accuracy: 0.9206\n",
      "Epoch 26/50\n",
      "1663/1663 [==============================] - 4s 2ms/step - loss: 0.2014 - accuracy: 0.9178 - val_loss: 0.1902 - val_accuracy: 0.9250\n",
      "Epoch 27/50\n",
      "1663/1663 [==============================] - 4s 2ms/step - loss: 0.2053 - accuracy: 0.9168 - val_loss: 0.2365 - val_accuracy: 0.8858\n",
      "Epoch 28/50\n",
      "1663/1663 [==============================] - 4s 2ms/step - loss: 0.1987 - accuracy: 0.9172 - val_loss: 0.1832 - val_accuracy: 0.9227\n",
      "Epoch 29/50\n",
      "1663/1663 [==============================] - 4s 2ms/step - loss: 0.1976 - accuracy: 0.9185 - val_loss: 0.1899 - val_accuracy: 0.9192\n",
      "Epoch 30/50\n",
      "1663/1663 [==============================] - 4s 3ms/step - loss: 0.1948 - accuracy: 0.9189 - val_loss: 0.1779 - val_accuracy: 0.9257\n",
      "Epoch 31/50\n",
      "1663/1663 [==============================] - 4s 2ms/step - loss: 0.1957 - accuracy: 0.9192 - val_loss: 0.1695 - val_accuracy: 0.9298\n",
      "Epoch 32/50\n",
      "1663/1663 [==============================] - 4s 2ms/step - loss: 0.1938 - accuracy: 0.9214 - val_loss: 0.1757 - val_accuracy: 0.9298\n",
      "Epoch 33/50\n",
      "1663/1663 [==============================] - 4s 2ms/step - loss: 0.1953 - accuracy: 0.9187 - val_loss: 0.2194 - val_accuracy: 0.9011\n",
      "Epoch 34/50\n",
      "1663/1663 [==============================] - 4s 2ms/step - loss: 0.1959 - accuracy: 0.9197 - val_loss: 0.1767 - val_accuracy: 0.9288\n",
      "Epoch 35/50\n",
      "1663/1663 [==============================] - 4s 2ms/step - loss: 0.1950 - accuracy: 0.9206 - val_loss: 0.1805 - val_accuracy: 0.9265\n",
      "Epoch 36/50\n",
      "1663/1663 [==============================] - 4s 2ms/step - loss: 0.1899 - accuracy: 0.9199 - val_loss: 0.2046 - val_accuracy: 0.9114\n",
      "Epoch 37/50\n",
      "1663/1663 [==============================] - 4s 2ms/step - loss: 0.1884 - accuracy: 0.9209 - val_loss: 0.1898 - val_accuracy: 0.9208\n",
      "Epoch 38/50\n",
      "1663/1663 [==============================] - 4s 2ms/step - loss: 0.1925 - accuracy: 0.9211 - val_loss: 0.1768 - val_accuracy: 0.9271\n",
      "Epoch 39/50\n",
      "1663/1663 [==============================] - 4s 2ms/step - loss: 0.1871 - accuracy: 0.9217 - val_loss: 0.2000 - val_accuracy: 0.9161\n",
      "Epoch 40/50\n",
      "1663/1663 [==============================] - 4s 2ms/step - loss: 0.1849 - accuracy: 0.9217 - val_loss: 0.1747 - val_accuracy: 0.9251\n",
      "Epoch 41/50\n",
      "1663/1663 [==============================] - 4s 2ms/step - loss: 0.1885 - accuracy: 0.9227 - val_loss: 0.1726 - val_accuracy: 0.9286\n",
      "Epoch 42/50\n",
      "1663/1663 [==============================] - 4s 2ms/step - loss: 0.1906 - accuracy: 0.9184 - val_loss: 0.1884 - val_accuracy: 0.9201\n",
      "Epoch 43/50\n",
      "1663/1663 [==============================] - 4s 2ms/step - loss: 0.1878 - accuracy: 0.9207 - val_loss: 0.1698 - val_accuracy: 0.9279\n",
      "Epoch 44/50\n",
      "1663/1663 [==============================] - 4s 2ms/step - loss: 0.1903 - accuracy: 0.9202 - val_loss: 0.2231 - val_accuracy: 0.9210\n",
      "Epoch 45/50\n",
      "1663/1663 [==============================] - 4s 2ms/step - loss: 0.1945 - accuracy: 0.9196 - val_loss: 0.1720 - val_accuracy: 0.9280\n",
      "Epoch 46/50\n",
      "1663/1663 [==============================] - 4s 2ms/step - loss: 0.1873 - accuracy: 0.9221 - val_loss: 0.1873 - val_accuracy: 0.9253\n",
      "Epoch 47/50\n",
      "1663/1663 [==============================] - 4s 2ms/step - loss: 0.1886 - accuracy: 0.9209 - val_loss: 0.1904 - val_accuracy: 0.9186\n",
      "Epoch 48/50\n",
      "1663/1663 [==============================] - 4s 2ms/step - loss: 0.1789 - accuracy: 0.9246 - val_loss: 0.1684 - val_accuracy: 0.9292\n",
      "Epoch 49/50\n",
      "1663/1663 [==============================] - 4s 2ms/step - loss: 0.1800 - accuracy: 0.9245 - val_loss: 0.1643 - val_accuracy: 0.9334\n",
      "Epoch 50/50\n",
      "1663/1663 [==============================] - 4s 2ms/step - loss: 0.1863 - accuracy: 0.9217 - val_loss: 0.1672 - val_accuracy: 0.9330\n"
     ]
    },
    {
     "name": "stderr",
     "output_type": "stream",
     "text": [
      "WARNING:absl:Function `_wrapped_model` contains input name(s) Input_Layer with unsupported characters which will be renamed to input_layer in the SavedModel.\n"
     ]
    },
    {
     "data": {
      "image/png": "[encoded data removed]",
      "text/plain": [
       "<Figure size 432x288 with 1 Axes>"
      ]
     },
     "metadata": {
      "needs_background": "light"
     },
     "output_type": "display_data"
    }
   ],
   "source": [
    "model2.train(train_features2,train_targets2)"
   ]
  },
  {
   "cell_type": "code",
   "execution_count": null,
   "metadata": {},
   "outputs": [
    {
     "data": {
      "text/plain": [
       "0.927519882678098"
      ]
     },
     "execution_count": 68,
     "metadata": {},
     "output_type": "execute_result"
    }
   ],
   "source": [
    "predicted_labels2 = model2.predict(test_features2)\n",
    "calculate_accuracy(predictions=predicted_labels2, targets=test_targets2)"
   ]
  },
  {
   "cell_type": "code",
   "execution_count": 7,
   "metadata": {},
   "outputs": [],
   "source": [
    "data3 = pd.read_csv('phishing_dataset.csv')\n",
    "df3 = pd.DataFrame(data3)\n",
    "train_features3, train_targets3, test_features3, test_targets3 = train_val_test_split(df3,'ClassLabel')"
   ]
  },
  {
   "cell_type": "code",
   "execution_count": 8,
   "metadata": {},
   "outputs": [],
   "source": [
    "model3 = Phishing_Detection_Model(num_features=train_features3.shape[1])"
   ]
  },
  {
   "cell_type": "code",
   "execution_count": 9,
   "metadata": {},
   "outputs": [
    {
     "name": "stderr",
     "output_type": "stream",
     "text": [
      "2023-02-12 18:41:35.100354: W tensorflow/core/platform/profile_utils/cpu_utils.cc:128] Failed to get CPU frequency: 0 Hz\n"
     ]
    },
    {
     "name": "stdout",
     "output_type": "stream",
     "text": [
      "Epoch 1/50\n",
      "188/188 [==============================] - 1s 3ms/step - loss: 7.6406 - accuracy: 0.8437 - val_loss: 2.0878 - val_accuracy: 0.8455\n",
      "Epoch 2/50\n",
      "188/188 [==============================] - 0s 2ms/step - loss: 2.1707 - accuracy: 0.8597 - val_loss: 1.9064 - val_accuracy: 0.8610\n",
      "Epoch 3/50\n",
      "188/188 [==============================] - 0s 2ms/step - loss: 0.8899 - accuracy: 0.8590 - val_loss: 0.2187 - val_accuracy: 0.9135\n",
      "Epoch 4/50\n",
      "188/188 [==============================] - 0s 2ms/step - loss: 0.3716 - accuracy: 0.8867 - val_loss: 0.3002 - val_accuracy: 0.8665\n",
      "Epoch 5/50\n",
      "188/188 [==============================] - 0s 2ms/step - loss: 0.4323 - accuracy: 0.9025 - val_loss: 0.2001 - val_accuracy: 0.9030\n",
      "Epoch 6/50\n",
      "188/188 [==============================] - 0s 2ms/step - loss: 0.2356 - accuracy: 0.9208 - val_loss: 0.2300 - val_accuracy: 0.9290\n",
      "Epoch 7/50\n",
      "188/188 [==============================] - 0s 2ms/step - loss: 0.2353 - accuracy: 0.9190 - val_loss: 0.1751 - val_accuracy: 0.9430\n",
      "Epoch 8/50\n",
      "188/188 [==============================] - 1s 4ms/step - loss: 0.2986 - accuracy: 0.9045 - val_loss: 0.5702 - val_accuracy: 0.8250\n",
      "Epoch 9/50\n",
      "188/188 [==============================] - 1s 3ms/step - loss: 0.2175 - accuracy: 0.9207 - val_loss: 0.1736 - val_accuracy: 0.9390\n",
      "Epoch 10/50\n",
      "188/188 [==============================] - 0s 2ms/step - loss: 0.2107 - accuracy: 0.9330 - val_loss: 0.4628 - val_accuracy: 0.8855\n",
      "Epoch 11/50\n",
      "188/188 [==============================] - 0s 2ms/step - loss: 0.3162 - accuracy: 0.9055 - val_loss: 0.2260 - val_accuracy: 0.9185\n",
      "Epoch 12/50\n",
      "188/188 [==============================] - 0s 2ms/step - loss: 0.4235 - accuracy: 0.8928 - val_loss: 0.3821 - val_accuracy: 0.8700\n",
      "Epoch 13/50\n",
      "188/188 [==============================] - 0s 2ms/step - loss: 0.1775 - accuracy: 0.9392 - val_loss: 0.2210 - val_accuracy: 0.9095\n",
      "Epoch 14/50\n",
      "188/188 [==============================] - 0s 2ms/step - loss: 0.2075 - accuracy: 0.9247 - val_loss: 0.1793 - val_accuracy: 0.9415\n",
      "Epoch 15/50\n",
      "188/188 [==============================] - 0s 2ms/step - loss: 0.1485 - accuracy: 0.9523 - val_loss: 0.1736 - val_accuracy: 0.9345\n",
      "Epoch 16/50\n",
      "188/188 [==============================] - 0s 2ms/step - loss: 0.1800 - accuracy: 0.9390 - val_loss: 0.1294 - val_accuracy: 0.9585\n",
      "Epoch 17/50\n",
      "188/188 [==============================] - 0s 2ms/step - loss: 0.2156 - accuracy: 0.9297 - val_loss: 0.1197 - val_accuracy: 0.9640\n",
      "Epoch 18/50\n",
      "188/188 [==============================] - 0s 2ms/step - loss: 0.1567 - accuracy: 0.9497 - val_loss: 0.2891 - val_accuracy: 0.8905\n",
      "Epoch 19/50\n",
      "188/188 [==============================] - 0s 2ms/step - loss: 0.1777 - accuracy: 0.9373 - val_loss: 0.1286 - val_accuracy: 0.9600\n",
      "Epoch 20/50\n",
      "188/188 [==============================] - 0s 2ms/step - loss: 0.1375 - accuracy: 0.9557 - val_loss: 0.1095 - val_accuracy: 0.9655\n",
      "Epoch 21/50\n",
      "188/188 [==============================] - 0s 2ms/step - loss: 0.1571 - accuracy: 0.9408 - val_loss: 0.1315 - val_accuracy: 0.9510\n",
      "Epoch 22/50\n",
      "188/188 [==============================] - 0s 2ms/step - loss: 0.1515 - accuracy: 0.9458 - val_loss: 0.1115 - val_accuracy: 0.9670\n",
      "Epoch 23/50\n",
      "188/188 [==============================] - 0s 2ms/step - loss: 0.1367 - accuracy: 0.9498 - val_loss: 0.1551 - val_accuracy: 0.9270\n",
      "Epoch 24/50\n",
      "188/188 [==============================] - 0s 2ms/step - loss: 0.2436 - accuracy: 0.9035 - val_loss: 0.2199 - val_accuracy: 0.8650\n",
      "Epoch 25/50\n",
      "188/188 [==============================] - 0s 2ms/step - loss: 0.2326 - accuracy: 0.8788 - val_loss: 0.2215 - val_accuracy: 0.9045\n",
      "Epoch 26/50\n",
      "188/188 [==============================] - 0s 2ms/step - loss: 0.1745 - accuracy: 0.9380 - val_loss: 0.2157 - val_accuracy: 0.8950\n",
      "Epoch 27/50\n",
      "188/188 [==============================] - 0s 2ms/step - loss: 0.1716 - accuracy: 0.9370 - val_loss: 0.2631 - val_accuracy: 0.8620\n",
      "Epoch 28/50\n",
      "188/188 [==============================] - 0s 2ms/step - loss: 0.2298 - accuracy: 0.8850 - val_loss: 0.2305 - val_accuracy: 0.8825\n",
      "Epoch 29/50\n",
      "188/188 [==============================] - 0s 2ms/step - loss: 0.1531 - accuracy: 0.9560 - val_loss: 0.1383 - val_accuracy: 0.9695\n",
      "Epoch 30/50\n",
      "188/188 [==============================] - 0s 2ms/step - loss: 0.1492 - accuracy: 0.9495 - val_loss: 0.2844 - val_accuracy: 0.8670\n",
      "Epoch 31/50\n",
      "188/188 [==============================] - 0s 2ms/step - loss: 0.2463 - accuracy: 0.8978 - val_loss: 0.1465 - val_accuracy: 0.9585\n",
      "Epoch 32/50\n",
      "188/188 [==============================] - 0s 2ms/step - loss: 0.1993 - accuracy: 0.9143 - val_loss: 0.2527 - val_accuracy: 0.8635\n",
      "Epoch 33/50\n",
      "188/188 [==============================] - 0s 2ms/step - loss: 0.2091 - accuracy: 0.8997 - val_loss: 0.2262 - val_accuracy: 0.8830\n",
      "Epoch 34/50\n",
      "188/188 [==============================] - 0s 2ms/step - loss: 0.1684 - accuracy: 0.9425 - val_loss: 0.1433 - val_accuracy: 0.9610\n",
      "Epoch 35/50\n",
      "188/188 [==============================] - 0s 2ms/step - loss: 0.2109 - accuracy: 0.9047 - val_loss: 0.2331 - val_accuracy: 0.8730\n",
      "Epoch 36/50\n",
      "188/188 [==============================] - 0s 2ms/step - loss: 0.1614 - accuracy: 0.9437 - val_loss: 0.1780 - val_accuracy: 0.9015\n",
      "Epoch 37/50\n",
      "188/188 [==============================] - 0s 2ms/step - loss: 0.1397 - accuracy: 0.9473 - val_loss: 0.2335 - val_accuracy: 0.8775\n",
      "Epoch 38/50\n",
      "188/188 [==============================] - 0s 2ms/step - loss: 0.2101 - accuracy: 0.8978 - val_loss: 0.1478 - val_accuracy: 0.9685\n",
      "Epoch 39/50\n",
      "188/188 [==============================] - 0s 2ms/step - loss: 0.1398 - accuracy: 0.9593 - val_loss: 0.2358 - val_accuracy: 0.8885\n",
      "Epoch 40/50\n",
      "188/188 [==============================] - 0s 2ms/step - loss: 0.1313 - accuracy: 0.9585 - val_loss: 0.1236 - val_accuracy: 0.9720\n",
      "Epoch 41/50\n",
      "188/188 [==============================] - 0s 2ms/step - loss: 0.1530 - accuracy: 0.9497 - val_loss: 0.5374 - val_accuracy: 0.8520\n",
      "Epoch 42/50\n",
      "188/188 [==============================] - 0s 2ms/step - loss: 0.1905 - accuracy: 0.9408 - val_loss: 0.1178 - val_accuracy: 0.9710\n",
      "Epoch 43/50\n",
      "188/188 [==============================] - 0s 2ms/step - loss: 0.1463 - accuracy: 0.9495 - val_loss: 0.1803 - val_accuracy: 0.9510\n",
      "Epoch 44/50\n",
      "188/188 [==============================] - 0s 2ms/step - loss: 0.2589 - accuracy: 0.8950 - val_loss: 0.1625 - val_accuracy: 0.9380\n",
      "Epoch 45/50\n",
      "188/188 [==============================] - 0s 2ms/step - loss: 0.1307 - accuracy: 0.9578 - val_loss: 0.1911 - val_accuracy: 0.9070\n",
      "Epoch 46/50\n",
      "188/188 [==============================] - 0s 2ms/step - loss: 0.1212 - accuracy: 0.9568 - val_loss: 0.1303 - val_accuracy: 0.9540\n",
      "Epoch 47/50\n",
      "188/188 [==============================] - 0s 2ms/step - loss: 0.1053 - accuracy: 0.9695 - val_loss: 0.1344 - val_accuracy: 0.9485\n",
      "Epoch 48/50\n",
      "188/188 [==============================] - 0s 2ms/step - loss: 0.1133 - accuracy: 0.9612 - val_loss: 0.1582 - val_accuracy: 0.9440\n",
      "Epoch 49/50\n",
      "188/188 [==============================] - 0s 2ms/step - loss: 0.1232 - accuracy: 0.9628 - val_loss: 0.1300 - val_accuracy: 0.9435\n",
      "Epoch 50/50\n",
      "188/188 [==============================] - 0s 2ms/step - loss: 0.1061 - accuracy: 0.9680 - val_loss: 0.0978 - val_accuracy: 0.9695\n"
     ]
    },
    {
     "name": "stderr",
     "output_type": "stream",
     "text": [
      "2023-02-12 18:41:52.937844: W tensorflow/python/util/util.cc:368] Sets are not currently considered sequences, but this may change in the future, so consider avoiding using them.\n",
      "WARNING:absl:Function `_wrapped_model` contains input name(s) Input_Layer with unsupported characters which will be renamed to input_layer in the SavedModel.\n"
     ]
    },
    {
     "data": {
      "image/png": "[encoded data removed]",
      "text/plain": [
       "<Figure size 432x288 with 1 Axes>"
      ]
     },
     "metadata": {
      "needs_background": "light"
     },
     "output_type": "display_data"
    }
   ],
   "source": [
    "model3.train(train_features3,train_targets3)"
   ]
  },
  {
   "cell_type": "code",
   "execution_count": 11,
   "metadata": {},
   "outputs": [
    {
     "data": {
      "text/plain": [
       "0.9725"
      ]
     },
     "execution_count": 11,
     "metadata": {},
     "output_type": "execute_result"
    }
   ],
   "source": [
    "predicted_labels3 = model3.predict(test_features3)\n",
    "calculate_accuracy(predictions=predicted_labels3, targets=test_targets3)"
   ]
  }
 ],
 "metadata": {
  "kernelspec": {
   "display_name": "tf_m1",
   "language": "python",
   "name": "python3"
  },
  "language_info": {
   "codemirror_mode": {
    "name": "ipython",
    "version": 3
   },
   "file_extension": ".py",
   "mimetype": "text/x-python",
   "name": "python",
   "nbconvert_exporter": "python",
   "pygments_lexer": "ipython3",
   "version": "3.8.10"
  },
  "orig_nbformat": 4,
  "vscode": {
   "interpreter": {
    "hash": "1c113ca73dcb788d262ff5c14dccc6d994c5d16184791d4e782c53cfe6cb089e"
   }
  }
 },
 "nbformat": 4,
 "nbformat_minor": 2
}
